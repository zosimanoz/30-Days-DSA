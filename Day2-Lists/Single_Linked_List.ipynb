{
 "cells": [
  {
   "cell_type": "markdown",
   "metadata": {},
   "source": [
    "# Single list \n",
    "\n",
    "We have Nodes in a list. Each node has two elements Data and pointer to next element in list. \n"
   ]
  },
  {
   "cell_type": "code",
   "execution_count": 17,
   "metadata": {},
   "outputs": [
    {
     "name": "stdout",
     "output_type": "stream",
     "text": [
      "D\n",
      "A\n",
      "E\n",
      "B\n",
      "C\n"
     ]
    }
   ],
   "source": [
    "class Node:\n",
    "    def __init__(self, data):\n",
    "        self.data = data\n",
    "        self.next = None\n",
    "        \n",
    "        \n",
    "class LinkedList:\n",
    "    def __init__(self):\n",
    "        self.head = None\n",
    "        \n",
    "    def get_items(self):\n",
    "        current_node = self.head\n",
    "        while current_node:\n",
    "            print(current_node.data)\n",
    "            current_node = current_node.next\n",
    "        \n",
    "    # append a node at the end of the list\n",
    "    def append(self, data):\n",
    "        new_node = Node(data)\n",
    "        \n",
    "        # check if the list is empty\n",
    "        if self.head is None:\n",
    "            self.head = new_node\n",
    "            return\n",
    "        # if list is not empty, iterate until the last node NULL and append item there\n",
    "        last_node = self.head\n",
    "        while last_node.next:\n",
    "            last_node = last_node.next\n",
    "        \n",
    "        last_node.next = new_node\n",
    "         \n",
    "    def prepend(self, data):\n",
    "        new_node = Node(data)\n",
    "        if self.head is None:\n",
    "            self.head = new_node\n",
    "            return\n",
    "        new_node.next = self.head\n",
    "        self.head = new_node\n",
    "        \n",
    "        \n",
    "    def insert_after_node(self, prev_node, data):\n",
    "        if not prev_node:\n",
    "            print(\"No previous node found.\")\n",
    "            return\n",
    "        \n",
    "        new_node = Node(data)\n",
    "        \n",
    "        # the next of new node is now the next of prev node\n",
    "        new_node.next = prev_node.next\n",
    "        # the next of prev node is now the new node\n",
    "        prev_node.next = new_node\n",
    "        \n",
    "        \n",
    "new_list = LinkedList()\n",
    "\n",
    "new_list.append(\"A\")\n",
    "new_list.append(\"B\")\n",
    "new_list.append(\"C\")\n",
    "new_list.prepend(\"D\")\n",
    "\n",
    "new_list.insert_after_node(new_list.head.next, \"E\")\n",
    "\n",
    "new_list.get_items()"
   ]
  },
  {
   "cell_type": "code",
   "execution_count": 7,
   "metadata": {},
   "outputs": [],
   "source": []
  },
  {
   "cell_type": "code",
   "execution_count": null,
   "metadata": {},
   "outputs": [],
   "source": []
  }
 ],
 "metadata": {
  "kernelspec": {
   "display_name": "Python 3",
   "language": "python",
   "name": "python3"
  },
  "language_info": {
   "codemirror_mode": {
    "name": "ipython",
    "version": 3
   },
   "file_extension": ".py",
   "mimetype": "text/x-python",
   "name": "python",
   "nbconvert_exporter": "python",
   "pygments_lexer": "ipython3",
   "version": "3.8.2"
  }
 },
 "nbformat": 4,
 "nbformat_minor": 4
}
