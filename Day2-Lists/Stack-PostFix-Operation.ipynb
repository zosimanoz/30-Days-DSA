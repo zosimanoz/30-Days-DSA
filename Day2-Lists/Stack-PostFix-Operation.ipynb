{
 "cells": [
  {
   "cell_type": "markdown",
   "metadata": {},
   "source": [
    "## POSTFIX operations using Stack\n",
    "\n",
    "Mathematical expressions are written with the operator between the two operands, as in 1 + 2 are called Infix\n",
    "Mathematical expressions are written with the operator that follows operands, as in 1 2 + are called Postfix\n"
   ]
  },
  {
   "cell_type": "code",
   "execution_count": 6,
   "metadata": {},
   "outputs": [],
   "source": [
    "class Stack:\n",
    "    def __init__(self):\n",
    "        self.items = []\n",
    "        \n",
    "    def push(self, item):\n",
    "        self.items.append(item)\n",
    "    \n",
    "    def pop(self):\n",
    "        return self.items.pop()\n",
    "    \n",
    "    def get_items(self):\n",
    "        return self.items\n",
    "    \n",
    "    def is_empty(self):\n",
    "        return self.items == []\n",
    "    \n",
    "    "
   ]
  },
  {
   "cell_type": "code",
   "execution_count": 11,
   "metadata": {},
   "outputs": [
    {
     "name": "stdout",
     "output_type": "stream",
     "text": [
      "12\n"
     ]
    }
   ],
   "source": [
    "import re\n",
    "\n",
    "def evaluate_postfix(expr):\n",
    "    s = Stack()\n",
    "    tokens_expr = re.split(\"([^0-9])\", expr)\n",
    "    for token  in tokens_expr:\n",
    "        if token == \"\" or token == \" \":\n",
    "            continue\n",
    "        elif token == \"+\":\n",
    "            sum = s.pop() + s.pop()\n",
    "            s.push(sum)\n",
    "        elif token == \"*\":\n",
    "            mul = s.pop() * s.pop()\n",
    "            s.push(mul)\n",
    "        elif token == \"-\":\n",
    "            diff = s.pop() - s.pop()\n",
    "            s.push(diff)\n",
    "        elif token == \"/\":\n",
    "            div = s.pop() / s.pop()\n",
    "            s.push(div)\n",
    "        else:\n",
    "            s.push(int(token))\n",
    "    \n",
    "    return s.pop()\n",
    "        \n",
    "\n",
    "res = evaluate_postfix(\"3 2 * 2 *\")\n",
    "\n",
    "print(res)"
   ]
  },
  {
   "cell_type": "code",
   "execution_count": null,
   "metadata": {},
   "outputs": [],
   "source": []
  }
 ],
 "metadata": {
  "kernelspec": {
   "display_name": "Python 3",
   "language": "python",
   "name": "python3"
  },
  "language_info": {
   "codemirror_mode": {
    "name": "ipython",
    "version": 3
   },
   "file_extension": ".py",
   "mimetype": "text/x-python",
   "name": "python",
   "nbconvert_exporter": "python",
   "pygments_lexer": "ipython3",
   "version": "3.8.2"
  }
 },
 "nbformat": 4,
 "nbformat_minor": 4
}
