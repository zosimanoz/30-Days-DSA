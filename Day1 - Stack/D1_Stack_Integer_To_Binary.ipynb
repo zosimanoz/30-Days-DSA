{
 "cells": [
  {
   "cell_type": "markdown",
   "metadata": {},
   "source": [
    "## Using Stack data structure to convert the integer value into binary value"
   ]
  },
  {
   "cell_type": "markdown",
   "metadata": {},
   "source": [
    "- 64 / 2 => que 32 => rem 0\n",
    "- 32 / 2 => que 16 => rem 0\n",
    "- 16 / 2 => que 8 => rem 0\n",
    "- 8 / 2 => que 4 => rem 0\n",
    "- 4 / 2 => que 2 => rem 0\n",
    "- 2 / 2 => que 1 => rem 0\n",
    "- 1 / 2 => que 0 => rem 1\n",
    "\n",
    "__verify : int('1000000',2) = 64__\n",
    "\n",
    "So, we will be repeteadly diving the number by 2 and storing its remainder in a stack which will finally contain our binary number"
   ]
  },
  {
   "cell_type": "code",
   "execution_count": 10,
   "metadata": {},
   "outputs": [
    {
     "name": "stdout",
     "output_type": "stream",
     "text": [
      "1000000\n"
     ]
    }
   ],
   "source": [
    "class Stack:\n",
    "    def __init__(self):\n",
    "        self.items = []\n",
    "        \n",
    "    def push(self, item):\n",
    "        self.items.append(item)\n",
    "        \n",
    "    def pop(self):\n",
    "        return self.items.pop()\n",
    "    \n",
    "    def is_empty(self):\n",
    "        return self.items == []\n",
    "    \n",
    "    def peek_top(self):\n",
    "        if not self.is_empty():\n",
    "            return self.items[-1]\n",
    "        \n",
    "    def get_items(self):\n",
    "        return self.items\n",
    "    \n",
    "\n",
    "    \n",
    "# define function that convert integer to binary\n",
    "\n",
    "def get_binary_num(decimal_num):\n",
    "    s = Stack()\n",
    "    while decimal_num > 0:\n",
    "        remainder = decimal_num % 2\n",
    "        s.push(remainder)\n",
    "        decimal_num = decimal_num // 2 # divide and floor the result\n",
    "        \n",
    "    bin_string = \"\"\n",
    "    \n",
    "    while not s.is_empty():\n",
    "        # print('string', bin_string)\n",
    "        bin_string += str(s.pop())\n",
    "        \n",
    "    return bin_string\n",
    "        \n",
    "        \n",
    "\n",
    "# test output\n",
    "\n",
    "print(get_binary_num(64))\n",
    "        \n",
    "        "
   ]
  },
  {
   "cell_type": "code",
   "execution_count": null,
   "metadata": {},
   "outputs": [],
   "source": []
  },
  {
   "cell_type": "code",
   "execution_count": null,
   "metadata": {},
   "outputs": [],
   "source": []
  }
 ],
 "metadata": {
  "kernelspec": {
   "display_name": "Python 3",
   "language": "python",
   "name": "python3"
  },
  "language_info": {
   "codemirror_mode": {
    "name": "ipython",
    "version": 3
   },
   "file_extension": ".py",
   "mimetype": "text/x-python",
   "name": "python",
   "nbconvert_exporter": "python",
   "pygments_lexer": "ipython3",
   "version": "3.8.2"
  }
 },
 "nbformat": 4,
 "nbformat_minor": 4
}
