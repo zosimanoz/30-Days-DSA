{
 "cells": [
  {
   "cell_type": "markdown",
   "metadata": {},
   "source": [
    "# Stack Data Structure\n",
    "\n",
    "A structure where insertion and deletion of items takes place at one end called top of the stack. Usually involves two operations PUSH and POP"
   ]
  },
  {
   "cell_type": "code",
   "execution_count": 1,
   "metadata": {},
   "outputs": [
    {
     "name": "stdout",
     "output_type": "stream",
     "text": [
      "True\n",
      "False\n",
      "['A', 'B', 'C']\n",
      "C\n",
      "C\n",
      "['A', 'B']\n"
     ]
    }
   ],
   "source": [
    "class Stack:\n",
    "    def __init__(self):\n",
    "        self.items = []\n",
    "        \n",
    "    def push(self, item):\n",
    "        self.items.append(item)\n",
    "        \n",
    "    def pop(self):\n",
    "        return self.items.pop()\n",
    "    \n",
    "    def is_empty(self):\n",
    "        return self.items == []\n",
    "    \n",
    "    def peek_top(self):\n",
    "        if not self.is_empty():\n",
    "            return self.items[-1] # last element from list\n",
    "        \n",
    "    def get_stack_items(self):\n",
    "        return self.items\n",
    "    \n",
    "s = Stack()\n",
    "print(s.is_empty())\n",
    "s.push('A')\n",
    "s.push('B')\n",
    "s.push('C')\n",
    "print(s.is_empty())\n",
    "print(s.get_stack_items())\n",
    "print(s.peek_top())\n",
    "print(s.pop())\n",
    "print(s.get_stack_items())"
   ]
  },
  {
   "cell_type": "code",
   "execution_count": null,
   "metadata": {},
   "outputs": [],
   "source": []
  }
 ],
 "metadata": {
  "kernelspec": {
   "display_name": "Python 3",
   "language": "python",
   "name": "python3"
  },
  "language_info": {
   "codemirror_mode": {
    "name": "ipython",
    "version": 3
   },
   "file_extension": ".py",
   "mimetype": "text/x-python",
   "name": "python",
   "nbconvert_exporter": "python",
   "pygments_lexer": "ipython3",
   "version": "3.8.2"
  }
 },
 "nbformat": 4,
 "nbformat_minor": 4
}
