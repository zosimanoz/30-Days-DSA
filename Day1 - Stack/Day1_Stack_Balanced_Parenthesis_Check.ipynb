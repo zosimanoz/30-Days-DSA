{
 "cells": [
  {
   "cell_type": "markdown",
   "metadata": {},
   "source": [
    "# Balanced Parenthesis Checking\n",
    "\n",
    "\"() (()) ({})\" => Balanced \n",
    "\n",
    "\" ()) ({){ \" => Unbalanced \n",
    "\n",
    "\" ))) \" => Unbalanced, here nothing is added to stack\n",
    "\n",
    "## Algorithm\n",
    "\n",
    "- Loop through the input string\n",
    "- Check if the bracket is starting bracket\n",
    "- If bracket is starting then push it into the stack and continue with the second element of string\n",
    "- If second element is opening bracket again push to the stack, else pop from the stack and check if bracket pair matches or not\n",
    "- Continue same steps until the stack is empty\n",
    "- If stack is empty, the brackets are balanced else not balanced\n",
    "- If we dont have any opening bracket in the input string, then the string is not balanced"
   ]
  },
  {
   "cell_type": "code",
   "execution_count": 16,
   "metadata": {},
   "outputs": [
    {
     "name": "stdout",
     "output_type": "stream",
     "text": [
      "True\n",
      "True\n",
      "False\n",
      "False\n"
     ]
    }
   ],
   "source": [
    "# Implement stack first\n",
    "\n",
    "class Stack:\n",
    "    def __init__(self):\n",
    "        self.items = []\n",
    "        \n",
    "    def push(self, item):\n",
    "        self.items.append(item)\n",
    "        \n",
    "    def pop(self):\n",
    "        return self.items.pop()\n",
    "    \n",
    "    def is_empty(self):\n",
    "        return self.items == []\n",
    "    \n",
    "    def peek_top(self):\n",
    "        if not self.is_empty():\n",
    "            return self.items[-1]\n",
    "        \n",
    "    def get_items(self):\n",
    "        return self.items\n",
    "    \n",
    "    \n",
    "# implement parenthesis check function\n",
    "\n",
    "def check_paren_match(top, paren):\n",
    "    if top == \"(\" and paren == \")\":\n",
    "        return True\n",
    "    elif top == \"{\" and paren == \"}\":\n",
    "        return True\n",
    "    elif top == \"[\" and paren == \"]\":\n",
    "        return True\n",
    "    else:\n",
    "        return False\n",
    "                \n",
    "\n",
    "def is_paren_balanced(paren_string):\n",
    "    is_balanced = True\n",
    "    index = 0\n",
    "    s = Stack()\n",
    "    \n",
    "    while index < len(paren_string) and is_balanced:\n",
    "        paren = paren_string[index]\n",
    "        if paren in \"({[\":\n",
    "            s.push(paren)\n",
    "            # print(s.get_items())\n",
    "        else:\n",
    "            if s.is_empty():\n",
    "                is_balanced = False\n",
    "            else:\n",
    "                top = s.pop()\n",
    "                # print('paren pair', top, paren)\n",
    "                if not check_paren_match(top, paren):\n",
    "                    is_balanced = False\n",
    "        \n",
    "        index += 1\n",
    "        \n",
    "    if s.is_empty() and is_balanced:\n",
    "        return True\n",
    "    else:\n",
    "        return False\n",
    "    \n",
    "    \n",
    "# Test methods\n",
    "\n",
    "print(is_paren_balanced(\"()\"))\n",
    "print(is_paren_balanced(\"({[]})\"))\n",
    "print(is_paren_balanced(\"]})\"))\n",
    "print(is_paren_balanced(\"({[]\"))\n",
    "\n",
    "    "
   ]
  },
  {
   "cell_type": "code",
   "execution_count": null,
   "metadata": {},
   "outputs": [],
   "source": []
  },
  {
   "cell_type": "code",
   "execution_count": null,
   "metadata": {},
   "outputs": [],
   "source": []
  }
 ],
 "metadata": {
  "kernelspec": {
   "display_name": "Python 3",
   "language": "python",
   "name": "python3"
  },
  "language_info": {
   "codemirror_mode": {
    "name": "ipython",
    "version": 3
   },
   "file_extension": ".py",
   "mimetype": "text/x-python",
   "name": "python",
   "nbconvert_exporter": "python",
   "pygments_lexer": "ipython3",
   "version": "3.8.2"
  }
 },
 "nbformat": 4,
 "nbformat_minor": 4
}
